{
  "cells": [
    {
      "cell_type": "markdown",
      "metadata": {
        "id": "view-in-github",
        "colab_type": "text"
      },
      "source": [
        "<a href=\"https://colab.research.google.com/github/JasonKilembe/Certificats/blob/master/AR_Selectivity_All_in_One.ipynb\" target=\"_parent\"><img src=\"https://colab.research.google.com/assets/colab-badge.svg\" alt=\"Open In Colab\"/></a>"
      ]
    },
    {
      "cell_type": "markdown",
      "id": "f498e8c9",
      "metadata": {
        "id": "f498e8c9"
      },
      "source": [
        "\n",
        "# 🔬 AR Selectivity Dataset — **All-in-One Notebook (ChEMBL + SMILES everywhere)**\n",
        "\n",
        "This notebook builds an activity dataset for **Androgen Receptor (AR)** and related nuclear receptors (**GR, PR, MR**) from **ChEMBL**, computes pActivity, labels actives/inactives, merges **SMILES** everywhere, and exports `.smi` and optional 3D SDF.\n"
      ]
    },
    {
      "cell_type": "code",
      "execution_count": 2,
      "id": "308cdb67",
      "metadata": {
        "id": "308cdb67"
      },
      "outputs": [],
      "source": [
        "\n",
        "# Install dependencies\n",
        "!pip -q install chembl_webresource_client pandas tqdm matplotlib rdkit-pypi\n"
      ]
    },
    {
      "cell_type": "code",
      "execution_count": 3,
      "id": "b0c74d7a",
      "metadata": {
        "id": "b0c74d7a"
      },
      "outputs": [],
      "source": [
        "\n",
        "from chembl_webresource_client.new_client import new_client\n",
        "import pandas as pd\n",
        "import math, os\n",
        "import matplotlib.pyplot as plt\n",
        "\n",
        "TARGETS = {\"AR\":\"CHEMBL1871\",\"GR\":\"CHEMBL2034\",\"PR\":\"CHEMBL208\",\"MR\":\"CHEMBL1994\"}\n",
        "STD_TYPES   = {\"IC50\",\"Ki\",\"EC50\"}\n",
        "ASSAY_TYPES = {\"B\"}\n",
        "ACTIVE_TH, INACT_TH = 6.0, 5.0\n",
        "OUTDIR = \"dataset_AR_selectivity\"\n"
      ]
    },
    {
      "cell_type": "code",
      "execution_count": 6,
      "id": "62c9b890",
      "metadata": {
        "id": "62c9b890"
      },
      "outputs": [],
      "source": [
        "def _to_p_activity(row):\n",
        "    p = row.get(\"pchembl_value\")\n",
        "    if p is not None:\n",
        "        try: return float(p)\n",
        "        except: pass\n",
        "    val = row.get(\"standard_value\")\n",
        "    units = (row.get(\"standard_units\") or \"\").lower()\n",
        "    if val is None or units != \"nm\": return None\n",
        "    try:\n",
        "        val = float(val)\n",
        "        if val <= 0: return None\n",
        "        return -math.log10(val*1e-9)\n",
        "    except: return None\n",
        "\n",
        "def _label_from_p(p):\n",
        "    if p is None or (isinstance(p, float) and pd.isna(p)): return -1\n",
        "    if p >= ACTIVE_TH: return 1\n",
        "    if p <= INACT_TH:  return 0\n",
        "    return -1\n",
        "\n",
        "def fetch_activities_for_target(tid):\n",
        "    act = new_client.activity.filter(\n",
        "        target_chembl_id=tid,\n",
        "        assay_type__in=list(ASSAY_TYPES),\n",
        "        standard_value__isnull=False\n",
        "    ).only([\"molecule_chembl_id\",\"target_chembl_id\",\"assay_type\",\"standard_type\",\n",
        "            \"standard_relation\",\"standard_value\",\"standard_units\",\"pchembl_value\",\"activity_comment\"])\n",
        "    df = pd.DataFrame(act)\n",
        "    if df.empty: return df\n",
        "    df = df[df[\"standard_type\"].isin(STD_TYPES)]\n",
        "    df = df[(df[\"standard_relation\"].isna()) | (df[\"standard_relation\"]==\"=\")]\n",
        "    df[\"pActivity\"] = df.apply(_to_p_activity, axis=1)\n",
        "    df = df.dropna(subset=[\"pActivity\"])\n",
        "    return df\n",
        "\n",
        "def best_per_ligand_target(df):\n",
        "    idx = df.groupby([\"molecule_chembl_id\",\"target_chembl_id\"])[\"pActivity\"].idxmax()\n",
        "    return df.loc[idx].reset_index(drop=True)\n",
        "\n",
        "def fetch_smiles(chembl_ids, chunk=1000, try_fix_from_inchi=True):\n",
        "    ids = pd.unique(pd.Series(chembl_ids).dropna().astype(str)).tolist()\n",
        "    frames = []\n",
        "    for i in range(0, len(ids), chunk):\n",
        "        sub = ids[i:i+chunk]\n",
        "        mols = new_client.molecule.filter(\n",
        "            molecule_chembl_id__in=sub\n",
        "        ).only([\"molecule_chembl_id\",\"molecule_structures\",\"molecule_properties\",\"pref_name\"])\n",
        "        mdf = pd.DataFrame(mols)\n",
        "        if mdf.empty:\n",
        "            continue\n",
        "        if \"molecule_structures\" in mdf.columns:\n",
        "            ms = mdf[\"molecule_structures\"]\n",
        "            mdf[\"canonical_smiles\"] = ms.apply(lambda d: d.get(\"canonical_smiles\") if isinstance(d, dict) else None)\n",
        "            mdf[\"inchi_key\"]        = ms.apply(lambda d: d.get(\"standard_inchi_key\") if isinstance(d, dict) else None)\n",
        "            mdf[\"standard_inchi\"]   = ms.apply(lambda d: d.get(\"standard_inchi\") if isinstance(d, dict) else None)\n",
        "        else:\n",
        "            mdf[\"canonical_smiles\"] = None\n",
        "            mdf[\"inchi_key\"] = None\n",
        "            mdf[\"standard_inchi\"] = None\n",
        "        mdf = mdf.rename(columns={\"molecule_chembl_id\":\"chembl_id\"})\n",
        "        frames.append(mdf[[\"chembl_id\",\"canonical_smiles\",\"inchi_key\",\"standard_inchi\",\"pref_name\"]])\n",
        "    out = pd.concat(frames, ignore_index=True) if frames else pd.DataFrame(\n",
        "        columns=[\"chembl_id\",\"canonical_smiles\",\"inchi_key\",\"standard_inchi\",\"pref_name\"]\n",
        "    )\n",
        "    if try_fix_from_inchi and not out.empty:\n",
        "        try:\n",
        "            from rdkit import Chem\n",
        "            from rdkit.Chem import inchi\n",
        "            mask = out[\"canonical_smiles\"].isna() & out[\"standard_inchi\"].notna()\n",
        "            if mask.any():\n",
        "                for idx, row in out.loc[mask].iterrows():\n",
        "                    try:\n",
        "                        mol = inchi.MolFromInchi(row[\"standard_inchi\"])\n",
        "                        if mol:\n",
        "                            out.at[idx, \"canonical_smiles\"] = Chem.MolToSmiles(mol)\n",
        "                    except Exception:\n",
        "                        pass\n",
        "        except Exception:\n",
        "            pass\n",
        "    out = out.drop(columns=[\"standard_inchi\"], errors=\"ignore\").drop_duplicates(subset=[\"chembl_id\"])\n",
        "    return out"
      ]
    },
    {
      "cell_type": "code",
      "execution_count": 8,
      "id": "8c180b1e",
      "metadata": {
        "id": "8c180b1e"
      },
      "outputs": [],
      "source": [
        "\n",
        "def fetch_smiles(chembl_ids, chunk=1000, try_fix_from_inchi=True):\n",
        "    ids = pd.unique(pd.Series(chembl_ids).dropna().astype(str)).tolist()\n",
        "    frames = []\n",
        "    for i in range(0, len(ids), chunk):\n",
        "        sub = ids[i:i+chunk]\n",
        "        mols = new_client.molecule.filter(\n",
        "            molecule_chembl_id__in=sub\n",
        "        ).only([\"molecule_chembl_id\",\"molecule_structures\",\"molecule_properties\",\"pref_name\"])\n",
        "        mdf = pd.DataFrame(mols)\n",
        "        if mdf.empty:\n",
        "            continue\n",
        "        if \"molecule_structures\" in mdf.columns:\n",
        "            ms = mdf[\"molecule_structures\"]\n",
        "            mdf[\"canonical_smiles\"] = ms.apply(lambda d: d.get(\"canonical_smiles\") if isinstance(d, dict) else None)\n",
        "            mdf[\"inchi_key\"]        = ms.apply(lambda d: d.get(\"standard_inchi_key\") if isinstance(d, dict) else None)\n",
        "            mdf[\"standard_inchi\"]   = ms.apply(lambda d: d.get(\"standard_inchi\") if isinstance(d, dict) else None)\n",
        "        else:\n",
        "            mdf[\"canonical_smiles\"] = None\n",
        "            mdf[\"inchi_key\"] = None\n",
        "            mdf[\"standard_inchi\"] = None\n",
        "        mdf = mdf.rename(columns={\"molecule_chembl_id\":\"chembl_id\"})\n",
        "        frames.append(mdf[[\"chembl_id\",\"canonical_smiles\",\"inchi_key\",\"standard_inchi\",\"pref_name\"]])\n",
        "    out = pd.concat(frames, ignore_index=True) if frames else pd.DataFrame(\n",
        "        columns=[\"chembl_id\",\"canonical_smiles\",\"inchi_key\",\"standard_inchi\",\"pref_name\"]\n",
        "    )\n",
        "    if try_fix_from_inchi and not out.empty:\n",
        "        try:\n",
        "            from rdkit import Chem\n",
        "            from rdkit.Chem import inchi\n",
        "            mask = out[\"canonical_smiles\"].isna() & out[\"standard_inchi\"].notna()\n",
        "            if mask.any():\n",
        "                for idx, row in out.loc[mask].iterrows():\n",
        "                    try:\n",
        "                        mol = inchi.MolFromInchi(row[\"standard_inchi\"])\n",
        "                        if mol:\n",
        "                            out.at[idx, \"canonical_smiles\"] = Chem.MolToSmiles(mol)\n",
        "                    except Exception:\n",
        "                        pass\n",
        "        except Exception:\n",
        "            pass\n",
        "    out = out.drop(columns=[\"standard_inchi\"], errors=\"ignore\").drop_duplicates(subset=[\"chembl_id\"])\n",
        "    return out\n"
      ]
    },
    {
      "cell_type": "code",
      "execution_count": 9,
      "id": "929d919f",
      "metadata": {
        "colab": {
          "base_uri": "https://localhost:8080/"
        },
        "id": "929d919f",
        "outputId": "30899b66-b965-41a6-8772-56700006e3f4"
      },
      "outputs": [
        {
          "output_type": "stream",
          "name": "stdout",
          "text": [
            "Fetching activities from ChEMBL …\n",
            "  - AR (CHEMBL1871)\n",
            "  - GR (CHEMBL2034)\n",
            "  - PR (CHEMBL208)\n",
            "  - MR (CHEMBL1994)\n",
            "SMILES coverage in RAW: 100.0%\n",
            "⚠️  2 ligands have no SMILES -> dataset_AR_selectivity/missing_smiles.csv\n",
            "✔ RAW written\n",
            "✔ LONG written\n",
            "✔ WIDE written\n",
            "✔ SMI written (unique ligands=148)\n"
          ]
        }
      ],
      "source": [
        "# RUN PIPELINE\n",
        "os.makedirs(OUTDIR, exist_ok=True)\n",
        "\n",
        "all_raw = []\n",
        "print(\"Fetching activities from ChEMBL …\")\n",
        "for name, tid in TARGETS.items():\n",
        "    print(f\"  - {name} ({tid})\")\n",
        "    d = fetch_activities_for_target(tid)\n",
        "    if d.empty:\n",
        "        print(f\"    ! No activities found for {name}\")\n",
        "        continue\n",
        "    d[\"target_short\"] = name\n",
        "    all_raw.append(d)\n",
        "\n",
        "if not all_raw:\n",
        "    raise SystemExit(\"No activities retrieved.\")\n",
        "\n",
        "raw = pd.concat(all_raw, ignore_index=True).copy()\n",
        "raw[\"molecule_chembl_id\"] = raw[\"molecule_chembl_id\"].astype(str)\n",
        "raw[\"target_chembl_id\"]   = raw[\"target_chembl_id\"].astype(str)\n",
        "\n",
        "# Merge SMILES (avoid duplicate 'chembl_id')\n",
        "smiles_map = fetch_smiles(raw[\"molecule_chembl_id\"].unique()).rename(columns={\"chembl_id\":\"chembl_id_smiles\"})\n",
        "raw_smiles = raw.merge(smiles_map, left_on=\"molecule_chembl_id\", right_on=\"chembl_id_smiles\", how=\"left\")\n",
        "\n",
        "# Diagnostics\n",
        "coverage = (raw_smiles[\"canonical_smiles\"].notna()).mean()\n",
        "print(f\"SMILES coverage in RAW: {coverage:.1%}\")\n",
        "\n",
        "missing = raw_smiles[raw_smiles[\"canonical_smiles\"].isna()][[\"molecule_chembl_id\"]].drop_duplicates()\n",
        "if not missing.empty:\n",
        "    missing.to_csv(os.path.join(OUTDIR, \"missing_smiles.csv\"), index=False)\n",
        "    print(f\"⚠️  {len(missing)} ligands have no SMILES -> {os.path.join(OUTDIR,'missing_smiles.csv')}\")\n",
        "\n",
        "# Save RAW\n",
        "cols_raw = [\"molecule_chembl_id\",\"target_chembl_id\",\"target_short\",\"assay_type\",\n",
        "            \"standard_type\",\"standard_relation\",\"standard_value\",\"standard_units\",\n",
        "            \"pchembl_value\",\"pActivity\",\"canonical_smiles\",\"inchi_key\",\"pref_name\"]\n",
        "raw_smiles.loc[:, cols_raw].to_csv(os.path.join(OUTDIR,\"chembl_selectivity_raw.csv\"), index=False)\n",
        "print(\"✔ RAW written\")\n",
        "\n",
        "# LONG\n",
        "best = best_per_ligand_target(raw_smiles)\n",
        "best[\"label\"] = best[\"pActivity\"].apply(_label_from_p)\n",
        "best = best.rename(columns={\"molecule_chembl_id\":\"chembl_id\",\"target_chembl_id\":\"target_id\"})\n",
        "best = best.drop(columns=[\"chembl_id_smiles\"], errors=\"ignore\")\n",
        "best = best.loc[:, ~best.columns.duplicated()]\n",
        "best = best[[\"chembl_id\",\"canonical_smiles\",\"inchi_key\",\"pref_name\",\"target_id\",\"target_short\",\"standard_type\",\"pActivity\",\"label\"]]\n",
        "best = (best.sort_values([\"chembl_id\",\"target_short\",\"pActivity\"], ascending=[True,True,False])\n",
        "            .drop_duplicates(subset=[\"chembl_id\",\"target_short\"], keep=\"first\"))\n",
        "best.to_csv(os.path.join(OUTDIR,\"chembl_selectivity_long.csv\"), index=False)\n",
        "print(\"✔ LONG written\")\n",
        "\n",
        "# WIDE\n",
        "index_cols = [\"chembl_id\",\"canonical_smiles\",\"inchi_key\",\"pref_name\"]\n",
        "wide_p = best.pivot_table(index=index_cols, columns=\"target_short\", values=\"pActivity\", aggfunc=\"max\")\n",
        "wide_l = best.pivot_table(index=index_cols, columns=\"target_short\", values=\"label\",     aggfunc=\"max\")\n",
        "wide_p.columns = [f\"pAct_{c}\" for c in wide_p.columns]\n",
        "wide_l.columns = [f\"label_{c}\" for c in wide_l.columns]\n",
        "wide = pd.concat([wide_p, wide_l], axis=1).reset_index()\n",
        "cols = [\"chembl_id\",\"pref_name\",\"canonical_smiles\",\"inchi_key\",\"pAct_AR\",\"pAct_GR\",\"pAct_PR\",\"pAct_MR\",\n",
        "        \"label_AR\",\"label_GR\",\"label_PR\",\"label_MR\"]\n",
        "for c in cols:\n",
        "    if c not in wide.columns: wide[c] = pd.NA\n",
        "wide = wide[cols]\n",
        "wide.to_csv(os.path.join(OUTDIR,\"chembl_selectivity_wide.csv\"), index=False)\n",
        "print(\"✔ WIDE written\")\n",
        "\n",
        "# SMI\n",
        "smi = wide[[\"canonical_smiles\",\"chembl_id\"]].dropna().drop_duplicates()\n",
        "smi.to_csv(os.path.join(OUTDIR,\"ligands_unique.smi\"), sep=\"\\t\", header=False, index=False)\n",
        "print(f\"✔ SMI written (unique ligands={len(smi)})\")"
      ]
    },
    {
      "cell_type": "code",
      "source": [
        "!pip install \"numpy<2.0\" \"pandas<2.2\"\n",
        "!pip install \"rdkit-pypi==2022.9.5\""
      ],
      "metadata": {
        "colab": {
          "base_uri": "https://localhost:8080/"
        },
        "id": "DDC-IRStbvmp",
        "outputId": "9605699a-a9a7-4bb8-e873-8dd9db84bbfc"
      },
      "id": "DDC-IRStbvmp",
      "execution_count": 1,
      "outputs": [
        {
          "output_type": "stream",
          "name": "stdout",
          "text": [
            "Requirement already satisfied: numpy<2.0 in /usr/local/lib/python3.11/dist-packages (1.26.4)\n",
            "Requirement already satisfied: pandas<2.2 in /usr/local/lib/python3.11/dist-packages (2.1.4)\n",
            "Requirement already satisfied: python-dateutil>=2.8.2 in /usr/local/lib/python3.11/dist-packages (from pandas<2.2) (2.9.0.post0)\n",
            "Requirement already satisfied: pytz>=2020.1 in /usr/local/lib/python3.11/dist-packages (from pandas<2.2) (2025.2)\n",
            "Requirement already satisfied: tzdata>=2022.1 in /usr/local/lib/python3.11/dist-packages (from pandas<2.2) (2025.2)\n",
            "Requirement already satisfied: six>=1.5 in /usr/local/lib/python3.11/dist-packages (from python-dateutil>=2.8.2->pandas<2.2) (1.17.0)\n",
            "Requirement already satisfied: rdkit-pypi==2022.9.5 in /usr/local/lib/python3.11/dist-packages (2022.9.5)\n",
            "Requirement already satisfied: numpy in /usr/local/lib/python3.11/dist-packages (from rdkit-pypi==2022.9.5) (1.26.4)\n",
            "Requirement already satisfied: Pillow in /usr/local/lib/python3.11/dist-packages (from rdkit-pypi==2022.9.5) (11.3.0)\n"
          ]
        }
      ]
    },
    {
      "cell_type": "code",
      "execution_count": 10,
      "id": "10ecbd4c",
      "metadata": {
        "colab": {
          "base_uri": "https://localhost:8080/"
        },
        "id": "10ecbd4c",
        "outputId": "e0fa8100-a8aa-4db8-e670-56b7ebc57325"
      },
      "outputs": [
        {
          "output_type": "stream",
          "name": "stderr",
          "text": [
            "[19:13:09] UFFTYPER: Unrecognized charge state for atom: 23\n",
            "[19:13:10] UFFTYPER: Unrecognized charge state for atom: 23\n"
          ]
        },
        {
          "output_type": "stream",
          "name": "stdout",
          "text": [
            "✔ SDF written to dataset_AR_selectivity/ligands_unique_3D.sdf (mols=148)\n"
          ]
        }
      ],
      "source": [
        "\n",
        "# Optional: export 3D SDF from SMILES\n",
        "from rdkit import Chem\n",
        "from rdkit.Chem import AllChem\n",
        "\n",
        "smi_path = os.path.join(OUTDIR, \"ligands_unique.smi\")\n",
        "sdf_path = os.path.join(OUTDIR, \"ligands_unique_3D.sdf\")\n",
        "\n",
        "if os.path.exists(smi_path):\n",
        "    suppl = []\n",
        "    with open(smi_path, \"r\") as f:\n",
        "        for line in f:\n",
        "            parts = line.strip().split(\"\\t\")\n",
        "            if len(parts) != 2:\n",
        "                continue\n",
        "            smi, chembl_id = parts\n",
        "            m = Chem.MolFromSmiles(smi)\n",
        "            if m is None:\n",
        "                continue\n",
        "            m = Chem.AddHs(m)\n",
        "            ok = AllChem.EmbedMolecule(m, AllChem.ETKDGv3())\n",
        "            if ok == 0:\n",
        "                AllChem.UFFOptimizeMolecule(m, maxIters=200)\n",
        "            m.SetProp(\"_Name\", chembl_id)\n",
        "            suppl.append(m)\n",
        "    if suppl:\n",
        "        w = Chem.SDWriter(sdf_path)\n",
        "        for m in suppl:\n",
        "            w.write(m)\n",
        "        w.close()\n",
        "        print(f\"✔ SDF written to {sdf_path} (mols={len(suppl)})\")\n",
        "    else:\n",
        "        print(\"No molecules to write to SDF.\")\n",
        "else:\n",
        "    print(\"SMI not found; skip SDF export.\")\n"
      ]
    },
    {
      "cell_type": "code",
      "source": [
        "import pandas as pd\n",
        "import matplotlib.pyplot as plt\n",
        "\n",
        "long = pd.read_csv(\"/content/dataset_AR_selectivity/chembl_selectivity_long.csv\")\n",
        "\n",
        "plt.figure()\n",
        "long[\"pActivity\"].hist(bins=50)\n",
        "plt.title(\"Distribution of pActivity (all targets)\")\n",
        "plt.xlabel(\"pActivity\")\n",
        "plt.ylabel(\"Count\")\n",
        "plt.show()\n",
        "\n",
        "plt.figure()\n",
        "long.boxplot(column=\"pActivity\", by=\"target_short\")\n",
        "plt.title(\"pActivity by Target\")\n",
        "plt.suptitle(\"\")\n",
        "plt.xlabel(\"Target\")\n",
        "plt.ylabel(\"pActivity\")\n",
        "plt.show()\n"
      ],
      "metadata": {
        "colab": {
          "base_uri": "https://localhost:8080/",
          "height": 935
        },
        "id": "FBtKxI8seEl-",
        "outputId": "761eef74-8d6d-4291-8951-22589633d6de"
      },
      "id": "FBtKxI8seEl-",
      "execution_count": 12,
      "outputs": [
        {
          "output_type": "display_data",
          "data": {
            "text/plain": [
              "<Figure size 640x480 with 1 Axes>"
            ],
            "image/png": "[encoded data removed]"
          },
          "metadata": {}
        },
        {
          "output_type": "display_data",
          "data": {
            "text/plain": [
              "<Figure size 640x480 with 0 Axes>"
            ]
          },
          "metadata": {}
        },
        {
          "output_type": "display_data",
          "data": {
            "text/plain": [
              "<Figure size 640x480 with 1 Axes>"
            ],
            "image/png": "[encoded data removed]"
          },
          "metadata": {}
        }
      ]
    }
  ],
  "metadata": {
    "colab": {
      "provenance": [],
      "include_colab_link": true
    },
    "language_info": {
      "name": "python"
    },
    "kernelspec": {
      "name": "python3",
      "display_name": "Python 3"
    }
  },
  "nbformat": 4,
  "nbformat_minor": 5
}